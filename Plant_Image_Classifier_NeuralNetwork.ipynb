{
  "nbformat": 4,
  "nbformat_minor": 0,
  "metadata": {
    "colab": {
      "name": "Plant-Image-Classifier_NeuralNetwork.ipynb",
      "provenance": [],
      "collapsed_sections": [],
      "include_colab_link": true
    },
    "kernelspec": {
      "name": "python3",
      "display_name": "Python 3"
    },
    "accelerator": "GPU"
  },
  "cells": [
    {
      "cell_type": "markdown",
      "metadata": {
        "id": "view-in-github",
        "colab_type": "text"
      },
      "source": [
        "<a href=\"https://colab.research.google.com/github/reemaratnani/Building-Neural-Network-Numpy/blob/master/Plant_Image_Classifier_NeuralNetwork.ipynb\" target=\"_parent\"><img src=\"https://colab.research.google.com/assets/colab-badge.svg\" alt=\"Open In Colab\"/></a>"
      ]
    },
    {
      "cell_type": "code",
      "metadata": {
        "id": "U2d-iMtNJXff",
        "colab_type": "code",
        "colab": {}
      },
      "source": [
        "from google.colab import files\n",
        "uploaded = files.upload()\n",
        "\n",
        "\n",
        "!mkdir -p ~/.kaggle/ && mv kaggle.json ~/.kaggle/ && chmod 600 ~/.kaggle/kaggle.json"
      ],
      "execution_count": 0,
      "outputs": []
    },
    {
      "cell_type": "code",
      "metadata": {
        "id": "LhWPfW-DAzVI",
        "colab_type": "code",
        "colab": {}
      },
      "source": [
        "!kaggle datasets download -d fpeccia/weed-detection-in-soybean-crops"
      ],
      "execution_count": 0,
      "outputs": []
    },
    {
      "cell_type": "code",
      "metadata": {
        "id": "MhXEpyzSE1HD",
        "colab_type": "code",
        "colab": {}
      },
      "source": [
        "!unzip weed-detection-in-soybean-crops.zip"
      ],
      "execution_count": 0,
      "outputs": []
    },
    {
      "cell_type": "code",
      "metadata": {
        "id": "iej_9CCpFdnq",
        "colab_type": "code",
        "outputId": "6db408fa-e00f-4432-f078-0eb51cb0c6d6",
        "colab": {
          "base_uri": "https://localhost:8080/",
          "height": 34
        }
      },
      "source": [
        "!ls\n"
      ],
      "execution_count": 4,
      "outputs": [
        {
          "output_type": "stream",
          "text": [
            "dataset  sample_data  weed-detection-in-soybean-crops.zip\n"
          ],
          "name": "stdout"
        }
      ]
    },
    {
      "cell_type": "code",
      "metadata": {
        "id": "uCldEIWHGNSQ",
        "colab_type": "code",
        "colab": {}
      },
      "source": [
        "import matplotlib.pyplot as plt\n",
        "import pandas as pd\n",
        "import numpy as np\n",
        "% matplotlib inline\n",
        "import os\n",
        "import cv2\n",
        "import glob\n",
        "import seaborn as sns\n",
        "from PIL import Image\n",
        "sns.set_style('white')"
      ],
      "execution_count": 0,
      "outputs": []
    },
    {
      "cell_type": "code",
      "metadata": {
        "id": "JWdtVUzHPKfc",
        "colab_type": "code",
        "outputId": "6a1e56e1-5bc6-48bd-db45-79fb57554adb",
        "colab": {
          "base_uri": "https://localhost:8080/",
          "height": 34
        }
      },
      "source": [
        "print(os.listdir('./dataset/dataset'))"
      ],
      "execution_count": 17,
      "outputs": [
        {
          "output_type": "stream",
          "text": [
            "['soybean', 'grass', 'broadleaf', 'soil']\n"
          ],
          "name": "stdout"
        }
      ]
    },
    {
      "cell_type": "code",
      "metadata": {
        "id": "IuZfIQrDS5Dk",
        "colab_type": "code",
        "colab": {}
      },
      "source": [
        "#  image paths\n",
        "def get_class_paths(img_class):\n",
        "    return ['./dataset/dataset/{}/'.format(img_class) + img for img in os.listdir('./dataset/dataset/' + img_class)]"
      ],
      "execution_count": 0,
      "outputs": []
    },
    {
      "cell_type": "code",
      "metadata": {
        "id": "u24TsYVjUwUv",
        "colab_type": "code",
        "outputId": "36687bd9-50f5-47bb-fc6b-a279680dc575",
        "colab": {
          "base_uri": "https://localhost:8080/",
          "height": 294
        }
      },
      "source": [
        "import seaborn as sns\n",
        "class_img_paths = {}\n",
        "class_size = {}\n",
        "for img in classes:\n",
        "    class_img_paths[img] = get_class_paths(img)\n",
        "    class_size[img] = len(class_img_paths[img])\n",
        "    \n",
        "fig = sns.barplot(x = 'count', y = 'class', data = {'class': classes, 'count': list(class_size.values())}, color = 'blue')\n",
        "plt.xlabel(\"Samples\")\n",
        "plt.ylabel(\"Class\")\n",
        "plt.title(\"Samples per class\")\n",
        "plt.show(fig)"
      ],
      "execution_count": 28,
      "outputs": [
        {
          "output_type": "display_data",
          "data": {
            "image/png": "[encoded data removed]",
            "text/plain": [
              "<Figure size 432x288 with 1 Axes>"
            ]
          },
          "metadata": {
            "tags": []
          }
        }
      ]
    }
  ]
}